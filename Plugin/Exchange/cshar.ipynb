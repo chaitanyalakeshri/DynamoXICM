{
 "cells": [
  {
   "cell_type": "code",
   "execution_count": 1,
   "metadata": {
    "dotnet_interactive": {
     "language": "csharp"
    },
    "polyglot_notebook": {
     "kernelName": "csharp"
    },
    "vscode": {
     "languageId": "polyglot-notebook"
    }
   },
   "outputs": [],
   "source": [
    "using System.IO.Pipes;\n",
    "string pipeName = \"ICMNamedPipeServer\";\n",
    "NamedPipeServerStream pipeServer = new NamedPipeServerStream(pipeName, PipeDirection.InOut, 1, PipeTransmissionMode.Message);"
   ]
  },
  {
   "cell_type": "code",
   "execution_count": 3,
   "metadata": {
    "polyglot_notebook": {
     "kernelName": "csharp"
    },
    "vscode": {
     "languageId": "polyglot-notebook"
    }
   },
   "outputs": [
    {
     "ename": "Error",
     "evalue": "(48,9): error CS0103: The name 'DynamoXICM' does not exist in the current context\r\n(49,9): error CS0103: The name 'DynamoXICM' does not exist in the current context\r\n(65,25): error CS0103: The name 'DynamoXICM' does not exist in the current context",
     "output_type": "error",
     "traceback": [
      "(48,9): error CS0103: The name 'DynamoXICM' does not exist in the current context\r\n",
      "(49,9): error CS0103: The name 'DynamoXICM' does not exist in the current context\r\n",
      "(65,25): error CS0103: The name 'DynamoXICM' does not exist in the current context"
     ]
    }
   ],
   "source": [
    "using System.Text;\n",
    "using System.Text.Json;\n",
    "internal class ExecuteFunction()\n",
    "{\n",
    "    /// <summary>\n",
    "    /// Executes a function on the server by sending a JSON request and receiving a JSON response.\n",
    "    /// </summary>\n",
    "    /// <param name=\"functionName\">The name of the function to execute.</param>\n",
    "    /// <param name=\"args\">The arguments to pass to the function.</param>\n",
    "    /// <returns>The response from the server as a string.</returns>\n",
    "    public static object Execute(string functionName, string[] args, NamedPipeServerStream pipeServer)\n",
    "    {\n",
    "        if (!System.Runtime.InteropServices.RuntimeInformation.IsOSPlatform(System.Runtime.InteropServices.OSPlatform.Windows))\n",
    "        {\n",
    "            return \"Platform not supported. Windows 11 is a supported platform\";\n",
    "        }\n",
    "\n",
    "        string jsonRequest = CreateJsonRequest(functionName, args);\n",
    "        WriteToServer(jsonRequest);\n",
    "        string response = ReadFromServer();\n",
    "        return ParseResponse(response);\n",
    "    }\n",
    "\n",
    "    /// <summary>\n",
    "    /// Creates a JSON request string with the function name and arguments.\n",
    "    /// </summary>\n",
    "    /// <param name=\"functionName\">The name of the function to execute.</param>\n",
    "    /// <param name=\"args\">The arguments to pass to the function.</param>\n",
    "    /// <returns>The JSON request string with an appended delimiter.</returns>\n",
    "    private static string CreateJsonRequest(string functionName, string[] args)\n",
    "    {\n",
    "        var dict = new Dictionary<string, object>\n",
    "            {\n",
    "                { \"function\", functionName },\n",
    "                { \"args\", args }\n",
    "            };\n",
    "        string jsonString = JsonSerializer.Serialize(dict);\n",
    "        jsonString += \"\\0END\\0\";\n",
    "        return jsonString;\n",
    "    }\n",
    "\n",
    "    /// <summary>\n",
    "    /// Writes the JSON request string to the server.\n",
    "    /// </summary>\n",
    "    /// <param name=\"jsonRequest\">The JSON request string to send to the server.</param>\n",
    "    private static void WriteToServer(string jsonRequest)\n",
    "    {\n",
    "        pipeServer.Write(Encoding.UTF8.GetBytes(jsonRequest));\n",
    "        pipeServer.Flush();\n",
    "    }\n",
    "\n",
    "    /// <summary>\n",
    "    /// Reads the response from the server, handling responses larger than the buffer size.\n",
    "    /// </summary>\n",
    "    /// <returns>The response string from the server without the delimiter.</returns>\n",
    "    private static string ReadFromServer()\n",
    "    {\n",
    "        byte[] buffer = new byte[1024];\n",
    "        StringBuilder responseBuilder = new StringBuilder();\n",
    "        int bytesRead;\n",
    "        string endDelimiter = \"\\0END\\0\";\n",
    "\n",
    "        do\n",
    "        {\n",
    "            bytesRead = DynamoXICM.DynamoXICM.GetPipeServer.Read(buffer, 0, buffer.Length);\n",
    "            responseBuilder.Append(Encoding.UTF8.GetString(buffer, 0, bytesRead));\n",
    "        } while (!responseBuilder.ToString().Contains(endDelimiter));\n",
    "\n",
    "        string response = responseBuilder.ToString();\n",
    "        return response.Substring(0, response.IndexOf(endDelimiter));\n",
    "    }\n",
    "\n",
    "    /// <summary>\n",
    "    /// Parses the JSON response string and extracts the response property.\n",
    "    /// </summary>\n",
    "    /// <param name=\"response\">The JSON response string from the server.</param>\n",
    "    /// <returns>The extracted response property as a string.</returns>\n",
    "    private static string ParseResponse(string response)\n",
    "    {\n",
    "        JsonDocument json = JsonDocument.Parse(response);\n",
    "        return json.RootElement.GetProperty(\"response\").ToString();\n",
    "    }\n",
    "}"
   ]
  },
  {
   "cell_type": "code",
   "execution_count": null,
   "metadata": {
    "polyglot_notebook": {
     "kernelName": "csharp"
    },
    "vscode": {
     "languageId": "polyglot-notebook"
    }
   },
   "outputs": [],
   "source": []
  }
 ],
 "metadata": {
  "kernelspec": {
   "display_name": ".NET (C#)",
   "language": "C#",
   "name": ".net-csharp"
  },
  "language_info": {
   "name": "python"
  },
  "polyglot_notebook": {
   "kernelInfo": {
    "defaultKernelName": "csharp",
    "items": [
     {
      "aliases": [],
      "name": "csharp"
     }
    ]
   }
  }
 },
 "nbformat": 4,
 "nbformat_minor": 2
}
